{
 "cells": [
  {
   "cell_type": "code",
   "execution_count": 304,
   "metadata": {},
   "outputs": [],
   "source": [
    "import os\n",
    "import numpy as np\n",
    "import tensorflow as tf\n",
    "import os\n",
    "from keras.preprocessing.image import ImageDataGenerator\n",
    "from keras.preprocessing.image import img_to_array, load_img\n",
    "from sklearn.model_selection import train_test_split\n",
    "import tensorflow as tf\n",
    "from tensorflow.keras.models import Sequential\n",
    "from tensorflow.keras.preprocessing.image import ImageDataGenerator\n",
    "from tensorflow.keras.callbacks import EarlyStopping, ReduceLROnPlateau"
   ]
  },
  {
   "cell_type": "code",
   "execution_count": 305,
   "metadata": {},
   "outputs": [
    {
     "data": {
      "text/plain": [
       "[PhysicalDevice(name='/physical_device:GPU:0', device_type='GPU')]"
      ]
     },
     "execution_count": 305,
     "metadata": {},
     "output_type": "execute_result"
    }
   ],
   "source": [
    "# Get GPU status\n",
    "# 获取GPU状态\n",
    "tf.config.list_physical_devices('GPU')"
   ]
  },
  {
   "cell_type": "code",
   "execution_count": 306,
   "metadata": {},
   "outputs": [],
   "source": [
    "# Traversing the dataset folder\n",
    "# 遍历数据集文件夹\n",
    "for dirname, _, filenames in os.walk('./Kaggel_dataset'):\n",
    "    for filename in filenames:\n",
    "        os.path.join(dirname, filename)"
   ]
  },
  {
   "cell_type": "code",
   "execution_count": 307,
   "metadata": {},
   "outputs": [
    {
     "name": "stdout",
     "output_type": "stream",
     "text": [
      "Found 8005 images belonging to 2 classes.\n"
     ]
    }
   ],
   "source": [
    "# Read the training set and generate the image generator\n",
    "# 读取训练集，生成图片生成器\n",
    "train_datagen = ImageDataGenerator(rescale = 1./255,\n",
    "                                   shear_range = 0.2,\n",
    "                                   zoom_range = 0.2,\n",
    "                                   horizontal_flip = True)\n",
    "training_set = train_datagen.flow_from_directory('./Kaggel_dataset/training_set', target_size = (108, 108), batch_size = 32, classes=['cats', 'dogs'])"
   ]
  },
  {
   "cell_type": "code",
   "execution_count": 308,
   "metadata": {},
   "outputs": [
    {
     "name": "stdout",
     "output_type": "stream",
     "text": [
      "Found 2023 images belonging to 2 classes.\n"
     ]
    }
   ],
   "source": [
    "# Read the testing set and generate the image generator\n",
    "# 读取测试集，生成图片生成器\n",
    "test_datagen = ImageDataGenerator(rescale = 1./255)\n",
    "test_set = test_datagen.flow_from_directory('./Kaggel_dataset/test_set', target_size = (108, 108), batch_size = 32, classes=['cats', 'dogs'])"
   ]
  },
  {
   "cell_type": "code",
   "execution_count": 309,
   "metadata": {},
   "outputs": [],
   "source": [
    "# Build the model\n",
    "# 建立模型\n",
    "model = Sequential()\n",
    "\n",
    "# Add 1st Convolutional layer\n",
    "# 增加第一个卷积层\n",
    "model.add(tf.keras.layers.Conv2D(filters=64, kernel_size=(3, 3), input_shape=(108, 108, 3), activation='relu'))\n",
    "# Batch Normalization\n",
    "# 批量标准化\n",
    "model.add(tf.keras.layers.BatchNormalization())\n",
    "# Add 2nd Convolutional layer\n",
    "# 添加第二个卷积层\n",
    "model.add(tf.keras.layers.Conv2D(filters=64, kernel_size=(3, 3), input_shape=(108, 108, 3), activation='relu'))\n",
    "# Batch Normalization\n",
    "# 批量标准化\n",
    "model.add(tf.keras.layers.BatchNormalization())\n",
    "# Add pooling layer\n",
    "# 添加池化层\n",
    "model.add(tf.keras.layers.MaxPool2D(pool_size=(2, 2), padding='same'))\n",
    "# Add 3rd Convolutional layer\n",
    "# 添加第三个卷积层\n",
    "model.add(tf.keras.layers.Conv2D(filters=32, kernel_size=(3, 3), activation='relu'))\n",
    "# Batch Normalization\n",
    "# 批量标准化\n",
    "model.add(tf.keras.layers.BatchNormalization())\n",
    "# Add 4nd Convolutional layer\n",
    "# 添加第四个卷积层\n",
    "model.add(tf.keras.layers.Conv2D(filters=32, kernel_size=(3, 3), activation='relu'))\n",
    "# Batch Normalization\n",
    "# 批量标准化\n",
    "model.add(tf.keras.layers.BatchNormalization())\n",
    "# Add pooling layer\n",
    "# 添加池化层\n",
    "model.add(tf.keras.layers.MaxPool2D(pool_size=(2, 2), padding='same'))\n",
    "# Flattening\n",
    "# 压平数据\n",
    "model.add(tf.keras.layers.Flatten())\n",
    "# Output layer\n",
    "# 输出层\n",
    "model.add(tf.keras.layers.Dense(2, activation='sigmoid'))\n",
    "\n",
    "model.compile(optimizer = 'adam', loss = 'categorical_crossentropy', metrics = ['accuracy'])"
   ]
  },
  {
   "cell_type": "code",
   "execution_count": 310,
   "metadata": {},
   "outputs": [
    {
     "name": "stdout",
     "output_type": "stream",
     "text": [
      "Model: \"sequential_19\"\n",
      "_________________________________________________________________\n",
      " Layer (type)                Output Shape              Param #   \n",
      "=================================================================\n",
      " conv2d_56 (Conv2D)          (None, 106, 106, 64)      1792      \n",
      "                                                                 \n",
      " batch_normalization_36 (Bat  (None, 106, 106, 64)     256       \n",
      " chNormalization)                                                \n",
      "                                                                 \n",
      " conv2d_57 (Conv2D)          (None, 104, 104, 64)      36928     \n",
      "                                                                 \n",
      " batch_normalization_37 (Bat  (None, 104, 104, 64)     256       \n",
      " chNormalization)                                                \n",
      "                                                                 \n",
      " max_pooling2d_38 (MaxPoolin  (None, 52, 52, 64)       0         \n",
      " g2D)                                                            \n",
      "                                                                 \n",
      " conv2d_58 (Conv2D)          (None, 50, 50, 32)        18464     \n",
      "                                                                 \n",
      " batch_normalization_38 (Bat  (None, 50, 50, 32)       128       \n",
      " chNormalization)                                                \n",
      "                                                                 \n",
      " conv2d_59 (Conv2D)          (None, 48, 48, 32)        9248      \n",
      "                                                                 \n",
      " batch_normalization_39 (Bat  (None, 48, 48, 32)       128       \n",
      " chNormalization)                                                \n",
      "                                                                 \n",
      " max_pooling2d_39 (MaxPoolin  (None, 24, 24, 32)       0         \n",
      " g2D)                                                            \n",
      "                                                                 \n",
      " flatten_19 (Flatten)        (None, 18432)             0         \n",
      "                                                                 \n",
      " dense_29 (Dense)            (None, 2)                 36866     \n",
      "                                                                 \n",
      "=================================================================\n",
      "Total params: 104,066\n",
      "Trainable params: 103,682\n",
      "Non-trainable params: 384\n",
      "_________________________________________________________________\n"
     ]
    }
   ],
   "source": [
    "model.summary()"
   ]
  },
  {
   "cell_type": "code",
   "execution_count": 311,
   "metadata": {},
   "outputs": [],
   "source": [
    "# Using callbacks for avoiding overfitting\n",
    "# 防止过拟合\n",
    "from tensorflow.keras.callbacks import EarlyStopping, ReduceLROnPlateau\n",
    "\n",
    "early_stopping = EarlyStopping(patience=5, \n",
    "                               min_delta=0.001,\n",
    "                               restore_best_weights=True)"
   ]
  },
  {
   "cell_type": "code",
   "execution_count": 312,
   "metadata": {},
   "outputs": [
    {
     "name": "stdout",
     "output_type": "stream",
     "text": [
      "Epoch 1/15\n",
      "251/251 [==============================] - 53s 207ms/step - loss: 1.6292 - accuracy: 0.5900 - val_loss: 1.2222 - val_accuracy: 0.5319\n",
      "Epoch 2/15\n",
      "251/251 [==============================] - 52s 209ms/step - loss: 1.4193 - accuracy: 0.6106 - val_loss: 1.2125 - val_accuracy: 0.5853\n",
      "Epoch 3/15\n",
      "251/251 [==============================] - 53s 211ms/step - loss: 1.1183 - accuracy: 0.6497 - val_loss: 1.7624 - val_accuracy: 0.6075\n",
      "Epoch 4/15\n",
      "251/251 [==============================] - 51s 204ms/step - loss: 0.9993 - accuracy: 0.6616 - val_loss: 0.8626 - val_accuracy: 0.6738\n",
      "Epoch 5/15\n",
      "251/251 [==============================] - 51s 204ms/step - loss: 0.8410 - accuracy: 0.6899 - val_loss: 0.9970 - val_accuracy: 0.6945\n",
      "Epoch 6/15\n",
      "251/251 [==============================] - 54s 217ms/step - loss: 0.7835 - accuracy: 0.6992 - val_loss: 0.8041 - val_accuracy: 0.7197\n",
      "Epoch 7/15\n",
      "251/251 [==============================] - 53s 213ms/step - loss: 0.6396 - accuracy: 0.7399 - val_loss: 0.6309 - val_accuracy: 0.7548\n",
      "Epoch 8/15\n",
      "251/251 [==============================] - 52s 208ms/step - loss: 0.5958 - accuracy: 0.7522 - val_loss: 0.8017 - val_accuracy: 0.6688\n",
      "Epoch 9/15\n",
      "251/251 [==============================] - 50s 201ms/step - loss: 0.5710 - accuracy: 0.7563 - val_loss: 0.7897 - val_accuracy: 0.6871\n",
      "Epoch 10/15\n",
      "251/251 [==============================] - 55s 221ms/step - loss: 0.5259 - accuracy: 0.7689 - val_loss: 0.5605 - val_accuracy: 0.7662\n",
      "Epoch 11/15\n",
      "251/251 [==============================] - 41s 162ms/step - loss: 0.5065 - accuracy: 0.7763 - val_loss: 0.6042 - val_accuracy: 0.7558\n",
      "Epoch 12/15\n",
      "251/251 [==============================] - 40s 159ms/step - loss: 0.4689 - accuracy: 0.7889 - val_loss: 0.5748 - val_accuracy: 0.7721\n",
      "Epoch 13/15\n",
      "251/251 [==============================] - 43s 170ms/step - loss: 0.4386 - accuracy: 0.8022 - val_loss: 0.5056 - val_accuracy: 0.7919\n",
      "Epoch 14/15\n",
      "251/251 [==============================] - 43s 172ms/step - loss: 0.4149 - accuracy: 0.8136 - val_loss: 0.5203 - val_accuracy: 0.7889\n",
      "Epoch 15/15\n",
      "251/251 [==============================] - 41s 165ms/step - loss: 0.4119 - accuracy: 0.8165 - val_loss: 0.4380 - val_accuracy: 0.8112\n"
     ]
    }
   ],
   "source": [
    "# Model training\n",
    "# 训练模型\n",
    "history = model.fit(x = training_set, validation_data = test_set, epochs = 15, callbacks=[early_stopping])"
   ]
  },
  {
   "cell_type": "code",
   "execution_count": 313,
   "metadata": {},
   "outputs": [],
   "source": [
    "# Store the models\n",
    "# 储存模型\n",
    "model.save_weights('./model.h5')"
   ]
  },
  {
   "cell_type": "code",
   "execution_count": 314,
   "metadata": {},
   "outputs": [
    {
     "data": {
      "text/plain": [
       "Text(0.5, 1.0, 'Accuracy Evolution')"
      ]
     },
     "execution_count": 314,
     "metadata": {},
     "output_type": "execute_result"
    },
    {
     "data": {
      "image/png": "[encoded data removed]",
      "text/plain": [
       "<Figure size 864x576 with 2 Axes>"
      ]
     },
     "metadata": {
      "needs_background": "light"
     },
     "output_type": "display_data"
    }
   ],
   "source": [
    "# CNN model Performance with the help of graphs\n",
    "# 通过图像确认模型表现\n",
    "import matplotlib.pyplot as plt\n",
    "\n",
    "plt.figure(figsize=(12,8))\n",
    "plt.subplot(2,2,1)\n",
    "plt.plot(history.history['loss'], label='Loss')\n",
    "# plt.plot(r.history['val_loss'],label='Val_Loss')\n",
    "plt.legend()\n",
    "plt.title('Loss Evaluation')\n",
    "\n",
    "plt.subplot(2,2,2)\n",
    "plt.plot(history.history['accuracy'], label='Accuracy')\n",
    "# plt.plot(r.history['val_accuracy'],label='Val_Accuracy')\n",
    "plt.legend()\n",
    "plt.title('Accuracy Evolution')"
   ]
  },
  {
   "cell_type": "code",
   "execution_count": 315,
   "metadata": {},
   "outputs": [],
   "source": [
    "# Test model\n",
    "# 测试模型\n",
    "test_imgs, test_labels = next(test_set)"
   ]
  },
  {
   "cell_type": "code",
   "execution_count": 316,
   "metadata": {},
   "outputs": [],
   "source": [
    "# Get some photoes(500+) to test\n",
    "# 获取测试图像\n",
    "for i in range(20):\n",
    "    test_imgs_i, test_labels_i = next(test_set)\n",
    "    test_imgs = np.concatenate((test_imgs, test_imgs_i),axis=0)\n",
    "    test_labels = np.concatenate((test_labels, test_labels_i),axis=0)"
   ]
  },
  {
   "cell_type": "code",
   "execution_count": 317,
   "metadata": {},
   "outputs": [],
   "source": [
    "# Load the model\n",
    "# 加载模型\n",
    "model.load_weights('./model.h5')"
   ]
  },
  {
   "cell_type": "code",
   "execution_count": 318,
   "metadata": {},
   "outputs": [],
   "source": [
    "# Get predictions\n",
    "# 获取预测值\n",
    "pred = np.round(model.predict(x=test_imgs, verbose=0))"
   ]
  },
  {
   "cell_type": "code",
   "execution_count": 319,
   "metadata": {},
   "outputs": [
    {
     "name": "stderr",
     "output_type": "stream",
     "text": [
      "E:\\Anaconda\\envs\\da_py37\\lib\\site-packages\\sklearn\\metrics\\_classification.py:1318: UndefinedMetricWarning: Precision and F-score are ill-defined and being set to 0.0 in samples with no predicted labels. Use `zero_division` parameter to control this behavior.\n",
      "  _warn_prf(average, modifier, msg_start, len(result))\n"
     ]
    },
    {
     "data": {
      "text/plain": [
       "'              precision    recall  f1-score   support\\n\\n           0       0.79      0.88      0.83       350\\n           1       0.84      0.77      0.81       322\\n\\n   micro avg       0.81      0.83      0.82       672\\n   macro avg       0.81      0.83      0.82       672\\nweighted avg       0.81      0.83      0.82       672\\n samples avg       0.81      0.83      0.82       672\\n'"
      ]
     },
     "execution_count": 319,
     "metadata": {},
     "output_type": "execute_result"
    }
   ],
   "source": [
    "# Get test results\n",
    "# 得到测试结果\n",
    "from sklearn import metrics\n",
    "metrics.classification_report(test_labels, pred)"
   ]
  }
 ],
 "metadata": {
  "interpreter": {
   "hash": "497227403d2be8d04d46aa664c184a0925bb2fe8c1cf187f3f60267247c8ba81"
  },
  "kernelspec": {
   "display_name": "Python 3.7.11 ('da_py37')",
   "language": "python",
   "name": "python3"
  },
  "language_info": {
   "codemirror_mode": {
    "name": "ipython",
    "version": 3
   },
   "file_extension": ".py",
   "mimetype": "text/x-python",
   "name": "python",
   "nbconvert_exporter": "python",
   "pygments_lexer": "ipython3",
   "version": "3.7.11"
  },
  "orig_nbformat": 4
 },
 "nbformat": 4,
 "nbformat_minor": 2
}
